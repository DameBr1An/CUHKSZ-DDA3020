{
 "cells": [
  {
   "cell_type": "code",
   "execution_count": 1,
   "metadata": {},
   "outputs": [],
   "source": [
    "import pandas as pd\n",
    "\n",
    "train_data = pd.read_csv('train.csv')\n",
    "test_data = pd.read_csv('test.csv')\n",
    "\n",
    "X_train = train_data.drop('Category', axis=1)\n",
    "y_train = train_data['Category']\n",
    "\n",
    "X_test = test_data.drop('label', axis=1)\n",
    "y_test = test_data['label']"
   ]
  },
  {
   "cell_type": "code",
   "execution_count": 2,
   "metadata": {},
   "outputs": [],
   "source": [
    "from sklearn.neural_network import MLPClassifier\n",
    "from sklearn.metrics import accuracy_score\n",
    "\n",
    "def train_and_evaluate(hidden_layers, hidden_nodes, optimizer):\n",
    "    model = MLPClassifier(hidden_layer_sizes=(hidden_nodes,) * hidden_layers, solver=optimizer, learning_rate_init=0.01, max_iter=500)\n",
    "    model.fit(X_test, y_test)\n",
    "\n",
    "    test_pred = model.predict(X_test)\n",
    "    accuracy = accuracy_score(y_test, test_pred)\n",
    "    return accuracy"
   ]
  },
  {
   "cell_type": "code",
   "execution_count": 3,
   "metadata": {},
   "outputs": [
    {
     "name": "stdout",
     "output_type": "stream",
     "text": [
      "hidden_layers=1, hidden_nodes=50, optimizer='adam', test_accuracy=0.3497\n",
      "hidden_layers=1, hidden_nodes=200, optimizer='adam', test_accuracy=0.7861\n",
      "hidden_layers=1, hidden_nodes=784, optimizer='adam', test_accuracy=0.8829\n",
      "hidden_layers=2, hidden_nodes=50, optimizer='adam', test_accuracy=0.7513\n"
     ]
    }
   ],
   "source": [
    "for hidden_layers in [1, 2, 3]:\n",
    "    for hidden_nodes in [50, 200, 784]:\n",
    "        test_acc = train_and_evaluate(hidden_layers, hidden_nodes, 'adam')\n",
    "        print(f\"hidden_layers={hidden_layers}, hidden_nodes={hidden_nodes}, optimizer='adam', test_accuracy={test_acc}\")"
   ]
  },
  {
   "cell_type": "code",
   "execution_count": null,
   "metadata": {},
   "outputs": [],
   "source": [
    "for hidden_layers in [1, 2, 3]:\n",
    "    for hidden_nodes in [50, 200, 784]:\n",
    "        test_acc = train_and_evaluate(hidden_layers, hidden_nodes, 'sgd')\n",
    "        print(f\"hidden_layers={hidden_layers}, hidden_nodes={hidden_nodes}, optimizer='sgd', test_accuracy={test_acc}\")"
   ]
  }
 ],
 "metadata": {
  "kernelspec": {
   "display_name": "Python 3",
   "language": "python",
   "name": "python3"
  },
  "language_info": {
   "codemirror_mode": {
    "name": "ipython",
    "version": 3
   },
   "file_extension": ".py",
   "mimetype": "text/x-python",
   "name": "python",
   "nbconvert_exporter": "python",
   "pygments_lexer": "ipython3",
   "version": "3.10.11"
  },
  "orig_nbformat": 4
 },
 "nbformat": 4,
 "nbformat_minor": 2
}
